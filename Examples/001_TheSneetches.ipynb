{
 "cells": [
  {
   "cell_type": "markdown",
   "metadata": {
    "collapsed": true
   },
   "source": [
    "## Example 1: The Sneetches"
   ]
  },
  {
   "cell_type": "markdown",
   "metadata": {},
   "source": [
    "### Preliminary Remarks\n",
    "\n",
    "The key strength of sociodynamics is that it allows for qualitative observations about a system to be turned into quantitatitive statements about the parameters which affect a system, and about the precise numerical relationship between those parameters.  To that end, the first example is about as qualitative as you can get: *The Sneetches*, by Dr. Seuss."
   ]
  },
  {
   "cell_type": "markdown",
   "metadata": {},
   "source": [
    "### Identification of Variables\n",
    "\n",
    "#### Population Types\n",
    "\n",
    "Since populations and not individuals are the core of sociodynamic probability transitions, the first step towards making any sociodynamics model is identifying distinct populations whose interactions we care about.  For this, we can look at the first stanza:\n",
    "\n",
    "`Now, the Star-Belly Sneetches  \n",
    "Had bellies with stars.  \n",
    "The Plain-Belly Sneetches \n",
    "Had none upon thars.`\n",
    "\n",
    "![Image: A Star-Belly Sneetch and a Plain-Belly Sneetch](Resources/Sneetches_01.png)\n",
    "\n",
    "From this, we can divide the Sneetch population $\\mathcal{P}$ into two groups $\\mathcal{P}^{(\\mu)}$, where $\\mu = s, p$, for Star-Belly and Plain-Belly Sneetches respectively.\n",
    "\n",
    "Importantly for our model, the belly stars (and associated psychological ) seem to be the primary difference between the Star-Belly and Plain-Belly Sneetch.  It is not likely, for instance, that there was a significant income disparity between\n",
    "\n",
    "#### Population Size\n",
    "\n",
    "The exact population size is difficult to tell from the poem, but we can make general assumptions.  The Star-On and Star-Off machines created by Sylvester McMonkey McBean seemed from the illustrations provided to admit one Sneetch at a time.\n",
    "\n",
    "![Image: The Star-On Machine](Resources/Sneetches_02.jpg)\n",
    "\n",
    "As two such machines were able to accomodate the entire Sneetch population, not once but a large number of times, over the course of a single day, and as two Sneetches would have to enter them at most once every two seconds, we can safely say that the Sneetch population could not have been \n",
    "\n",
    "#### Time\n",
    "\n",
    "### Boundary Conditions\n",
    "\n",
    "We can identify three distinct regions of Sneetch behavior, marked off by three sets of boundary conditions.\n",
    "\n",
    "#### Boundary Condition 1\n",
    "\n",
    "The first boundary condition is the state that the Sneetch population was in before the poem began.\n",
    "\n",
    "`When the Star-Belly Sneetches had frankfurter roasts  \n",
    "Or picnics or parties or marshmallow toasts,  \n",
    "They never invited the Plain-Belly Sneetches.  \n",
    "They left them out cold, in the dark of the beaches.  \n",
    "They kept them away. Never let them come near.  \n",
    "And that's how they treated them year after year.`\n",
    "\n",
    "There is no time-dependency of this state, and no "
   ]
  },
  {
   "cell_type": "code",
   "execution_count": null,
   "metadata": {
    "collapsed": true
   },
   "outputs": [],
   "source": []
  },
  {
   "cell_type": "code",
   "execution_count": null,
   "metadata": {
    "collapsed": true
   },
   "outputs": [],
   "source": []
  }
 ],
 "metadata": {
  "kernelspec": {
   "display_name": "Python 3",
   "language": "python",
   "name": "python3"
  },
  "language_info": {
   "codemirror_mode": {
    "name": "ipython",
    "version": 3
   },
   "file_extension": ".py",
   "mimetype": "text/x-python",
   "name": "python",
   "nbconvert_exporter": "python",
   "pygments_lexer": "ipython3",
   "version": "3.5.2"
  }
 },
 "nbformat": 4,
 "nbformat_minor": 2
}
