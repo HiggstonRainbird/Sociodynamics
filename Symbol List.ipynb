{
 "cells": [
  {
   "cell_type": "markdown",
   "metadata": {},
   "source": [
    "## List of Symbols\n",
    "\n",
    "There are a large number of symbols involved in notating even an elementary sociodynamics model.  Many of these represent the specific variables and parameters of an individual model, but some are more general and are listed here.  It's a good idea to provide each individual model with its own list of symbols, as provided (for example) in Table 5.4 of Weidlich's *Sociodynamics*.\n",
    "\n",
    "We provide all variables used in our notation below, as a group of lists by subject, as a group of lists by order of introduction in Weidlich's *Sociodynamics*, and as an alphabetical list."
   ]
  },
  {
   "cell_type": "markdown",
   "metadata": {},
   "source": [
    "### General Notation Guide\n",
    "\n",
    "**Bold** symbols (e.g. **x**) represent vectors in which each element is represented by the equivalent non-bold symbol (e.g. $\\{x_1,x_2,x_3,...\\}$).\n",
    "\n",
    "Symbols with subscripts (e.g. $N_i$) represent variables which are iterated over different extensive or intensive personal variables.\n",
    "\n",
    "Symbols with individual subscripts (e.g. $\\mathcal{P}^\\alpha$) represent variables which are iterated over different subpopulations.\n",
    "\n",
    "Symbols with a subscript plus-minus or minus-plus sign (± or ∓) represent configurations which move by one unit to a neighboring configuration.\n",
    "\n",
    "In a transition expression, the final configuration is always to the *left* of the initial configuration."
   ]
  },
  {
   "cell_type": "markdown",
   "metadata": {},
   "source": [
    "### Ordering By Type"
   ]
  },
  {
   "cell_type": "markdown",
   "metadata": {},
   "source": [
    "#### Collective Material Variables"
   ]
  },
  {
   "cell_type": "markdown",
   "metadata": {},
   "source": [
    "#### Extensive Personal Variables"
   ]
  },
  {
   "cell_type": "markdown",
   "metadata": {},
   "source": [
    "#### Intensive Personal Variables"
   ]
  },
  {
   "cell_type": "markdown",
   "metadata": {},
   "source": [
    "### Chronological Ordering"
   ]
  },
  {
   "cell_type": "markdown",
   "metadata": {},
   "source": [
    "#### Chapter 3 - The General Modelling Concept of Sociodynamics"
   ]
  },
  {
   "cell_type": "markdown",
   "metadata": {},
   "source": [
    "**Chapter 3.2.1 - The Configuration Space of Macrovariables**\n",
    "\n",
    "| Variable | Brief Description | Long Description |\n",
    "|:----|:----|:----|\n",
    "| **m** | Representative material macrovariable | A general symbol used to represent the set of all material macrovariables for a model. |\n",
    "| *i* | Attitudinal index | An index which is iterated over all possible attitudes available to an individual. |\n",
    "| C | Choice set size | Number of different choosable attitudes *i* available to an individual. |\n",
    "| $\\alpha$ | Background index | An index which is iterated over all possible unchangeable properties of an individual. | \n",
    "| $\\mathcal{P}^\\alpha$ | Subpopulation | A variable representing the section of the overall population with background $\\alpha$. |\n",
    "| P | Background size | Number of different backgrounds $\\alpha$ available to an individual. |\n",
    "| $n_i^\\alpha$ | Extensive personal macrovariable | A variable representing the number of members of $\\mathcal{P}^\\alpha$ with public attitude *i*. |\n",
    "| **n** | Socioconfiguration | The set of all extensive personal macrovariables of a society, defined as $\\{n_1^1,...n_C^P\\}$ | \n",
    "| $N^\\alpha$ | Subpopulation size | The number of individuals in subpopulation $\\mathcal{P}^\\alpha$. Defined as $N_i = \\sum_{i=1}^{C}n_i$. |\n",
    "| $N_i$ | Attitudinal size | The number of individuals with attitude *i*.  Defined as $N_i = \\sum_{\\alpha=1}^{P}n^\\alpha$. |\n",
    "| $N$ | Population size | The total number of individuals in the entire population.  Defined as $N = \\sum_{\\alpha=1}^{P}N^\\alpha = \\sum_{i=1}^{C}N_i$. |\n",
    "| $\\vartheta_i^\\alpha$ | Intensive personal variable | The internal feeling of group $n_i^\\alpha$ with respect to one field. |\n",
    "| **ϑ** | Configuration of intensive personal variables | The set of all extensive personal macrovariables of a society with respect to one field, defined as $\\{ϑ_1^1,...ϑ_C^P\\}$ |\n",
    "| $\\Theta$ | Intensive personal variable limit | The highest (and lowest, when multiplied by -1) possible value of $ϑ_i^\\alpha$. |\n",
    "| $\\kappa^\\alpha$ | Parameter | A representative trend or control paramater for subpopulation $\\mathcal{P}^\\alpha$. |\n",
    "| **κ** | Parameter configuration | The set of all parameters of a society, defined as $\\{\\kappa^1,...,\\kappa^P\\}$.\n",
    "| {**m**, **n**, **ϑ**; **κ**} | Total configuration | The complete set of material variables, extensive and intensive variables, and parameters for a society."
   ]
  },
  {
   "cell_type": "markdown",
   "metadata": {},
   "source": [
    "**Chapter 3.2.2 - The Elementary Dynamics**\n",
    "\n",
    "| Variable | Brief Description | Long Description |\n",
    "|:----|:----|:----|\n",
    "| $\\mathbf{m}_{k±}$ | Neighboring material configuration | A variable representing one neighboring material configuration of $\\mathbf{m}$, in which $m_k$ is replaced by $m_k$ ± 1. |\n",
    "| $\\mathbf{n}_{ji}^\\alpha$ | Neighboring socioconfiguration | A variable representing one neighboring socioconfiguration of $\\mathbf{n}$ , in which one individual in subpopulation $\\mathcal{P}^\\alpha$ changes attitude from *i* to *j*. |\n",
    "| $\\vartheta_{i±}^\\alpha$ | Neighboring intensive configuration | A variable representing one neighboring intensive configuration of **ϑ**, in which $\\vartheta_{i}^\\alpha$ changes by one unit. |\n",
    "| $w_k$($\\mathbf{m}_{k±}$, $\\mathbf{m}$; $\\mathbf{n}$; **ϑ**; **κ**) | Probabalistic material transition rate | The rate of transition between $\\mathbf{m}$ and $\\mathbf{m}_{k±}$. Equal to $\\mu_0$ exp{$M_k$($\\mathbf{m}_{k±}$, $\\mathbf{m}$; **n**; **ϑ**; **κ**)}.|\n",
    "| $M_k$($\\mathbf{m}_{k±}$, $\\mathbf{m}$; $\\mathbf{n}$; **ϑ**; **κ**) | Motivation potential | The measure of the intensity of the transition from the initial state $\\mathbf{m}$ to the final state $\\mathbf{m}_{k±}$. |\n",
    "| $\\mu_0$ | Motivation potential constant | A constant multiplied by the antilog of the motivation potential to obtain the probabalistic transition rate. |\n",
    "| $w_{ji}^\\alpha$($\\mathbf{m}$; $\\mathbf{n}_{ij}^\\alpha$, $\\mathbf{n}$; **ϑ**; **κ**) | Probabalistic socioconfiguration transition rate | The rate of transition between $\\mathbf{n}$ and $\\mathbf{n}_{ij}^\\alpha$. Equal to $\\nu_0$ $n_i^\\alpha$ $p_{ji}^\\alpha$($\\mathbf{m}$; $\\mathbf{n}_{ij}^\\alpha$, $\\mathbf{n}$; **ϑ**; **κ**).|\n",
    "| $p_{ji}^\\alpha$($\\mathbf{m}$; $\\mathbf{n}_{ij}^\\alpha$, $\\mathbf{n}$; **ϑ**; **κ**) | Individual socioconfiguration transition rate | The rate of transition between $\\mathbf{n}$ and $\\mathbf{n}_{ij}^\\alpha$. Equal to exp{$M_{ji}^\\alpha$($\\mathbf{m}$; $\\mathbf{n}_{ij}^\\alpha$, $\\mathbf{n}$; **ϑ**; **κ**)}.|"
   ]
  },
  {
   "cell_type": "markdown",
   "metadata": {},
   "source": [
    "### Alphabetical Ordering"
   ]
  },
  {
   "cell_type": "markdown",
   "metadata": {},
   "source": []
  },
  {
   "cell_type": "markdown",
   "metadata": {},
   "source": [
    "### Personal comments:\n",
    "\n",
    "* Is the use of **ϑ** and **κ** consistent with the use of **m**, **n**?  It seems that you could have more than one field of intensive personal variables or field of parameters, and thus more than one **ϑ** or **κ**, but that you could not say the same thing about **m** or **n**.\n",
    "* I have to figure out how to get bold Greek symbols to work in this flavor of LaTeX."
   ]
  },
  {
   "cell_type": "code",
   "execution_count": null,
   "metadata": {
    "collapsed": true
   },
   "outputs": [],
   "source": []
  }
 ],
 "metadata": {
  "kernelspec": {
   "display_name": "Python 3",
   "language": "python",
   "name": "python3"
  },
  "language_info": {
   "codemirror_mode": {
    "name": "ipython",
    "version": 3
   },
   "file_extension": ".py",
   "mimetype": "text/x-python",
   "name": "python",
   "nbconvert_exporter": "python",
   "pygments_lexer": "ipython3",
   "version": "3.5.2"
  }
 },
 "nbformat": 4,
 "nbformat_minor": 2
}
