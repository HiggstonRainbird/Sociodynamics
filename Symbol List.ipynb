{
 "cells": [
  {
   "cell_type": "markdown",
   "metadata": {},
   "source": [
    "## List of Symbols\n",
    "\n",
    "There are a large number of symbols involved in notating even an elementary sociodynamics model.  Many of these represent the specific variables and parameters of an individual model, but some are more general and are listed here.  It's a good idea to provide each individual model with its own list of symbols, as provided (for example) in Table 5.4 of Weidlich's *Sociodynamics*.\n",
    "\n",
    "We provide all variables used in our notation below, as a group of lists by subject, as a group of lists by order of introduction in Weidlich's *Sociodynamics*, and as an alphabetical list."
   ]
  },
  {
   "cell_type": "markdown",
   "metadata": {},
   "source": [
    "### General Notation Guide\n",
    "\n",
    "**Bold** symbols (e.g. **x**) represent vectors in which each element is represented by the equivalent non-bold symbol (e.g. $\\{x_1,x_2,x_3,...\\}$).\n",
    "\n",
    "Symbols with subscripts (e.g. $N_i$) represent variables which are iterated over different extensive or intensive personal variables.\n",
    "\n",
    "Symbols with superscripts (e.g. $\\mathcal{P}^\\alpha$) represent variables which are iterated over different subpopulations."
   ]
  },
  {
   "cell_type": "markdown",
   "metadata": {},
   "source": [
    "### Ordering By Type"
   ]
  },
  {
   "cell_type": "markdown",
   "metadata": {},
   "source": [
    "#### Collective Material Variables"
   ]
  },
  {
   "cell_type": "markdown",
   "metadata": {},
   "source": [
    "#### Extensive Personal Variables"
   ]
  },
  {
   "cell_type": "markdown",
   "metadata": {},
   "source": [
    "#### Intensive Personal Variables"
   ]
  },
  {
   "cell_type": "markdown",
   "metadata": {},
   "source": [
    "### Chronological Ordering"
   ]
  },
  {
   "cell_type": "markdown",
   "metadata": {},
   "source": [
    "#### Chapter 3 - The General Modelling Concept of Sociodynamics"
   ]
  },
  {
   "cell_type": "markdown",
   "metadata": {},
   "source": [
    "| Variable | Brief Description | Long Description |\n",
    "|:----|:----|:----|\n",
    "| **m** | Representative material macrovariable | A general symbol used to represent the set of all material macrovariables for a model. |\n",
    "| *i* | Attitudinal index | An index which is iterated over all possible attitudes available to an individual. |\n",
    "| C | Choice set size | Number of different choosable attitudes *i* available to an individual. |\n",
    "| $\\alpha$ | Background index | An index which is iterated over all possible unchangeable properties of an individual. | \n",
    "| $\\mathcal{P}^\\alpha$ | Subpopulation | A variable representing the section of the overall population with background $\\alpha$. |\n",
    "| P | Background size | Number of different backgrounds $\\alpha$ available to an individual. |\n",
    "| $n_i^\\alpha$ | Extensive personal macrovariable | A variable representing the number of members of $\\mathcal{P}^\\alpha$ with public attitude *i*. |\n",
    "| **n** | Socioconfiguration | The set of all extensive personal macrovariables of a society, defined as $\\{n_1^1,...n_C^P\\}$ | \n",
    "| $N^\\alpha$ | Subpopulation size | The number of individuals in subpopulation $\\mathcal{P}^\\alpha$. Defined as $N_i = \\sum_{i=1}^{C}n_i$. |\n",
    "| $N_i$ | Attitudinal size | The number of individuals with attitude *i*.  Defined as $N_i = \\sum_{\\alpha=1}^{P}n^\\alpha$. |\n",
    "| $N$ | Population size | The total number of individuals in the entire population.  Defined as $N = \\sum_{\\alpha=1}^{P}N^\\alpha = \\sum_{i=1}^{C}N_i$. |\n",
    "| $ϑ_i^\\alpha$ | Intensive personal variable | The internal feeling of group $n_i^\\alpha$ with respect to one field.\n",
    "| **ϑ** | Configuration of intensive personal variables | The set of all extensive personal macrovariables of a society with respect to one field, defined as $\\{ϑ_1^1,...ϑ_C^P\\}$ |\n",
    "| $\\Theta$ | Intensive personal variable limit | The highest (and lowest, when multiplied by -1) possible value of $ϑ_i^\\alpha$. |\n",
    "| $\\kappa^\\alpha$ | Parameter | A representative trend or control paramater for subpopulation $\\mathcal{P}^\\alpha$. |\n",
    "| **κ** | Parameter configuration | The set of all parameters of a society, defined as $\\{\\kappa^1,...,\\kappa^P\\}$.\n",
    "| {**m**, **n**, **ϑ**; **κ**} | Total configuration | The complete set of material variables, extensive and intensive variables, and parameters for a society."
   ]
  },
  {
   "cell_type": "markdown",
   "metadata": {},
   "source": [
    "### Alphabetical Ordering"
   ]
  },
  {
   "cell_type": "markdown",
   "metadata": {},
   "source": []
  },
  {
   "cell_type": "markdown",
   "metadata": {},
   "source": [
    "### Personal comments:\n",
    "\n",
    "* Is the use of **ϑ** and **κ** consistent with the use of **m**, **n**?  It seems that you could have more than one field of intensive personal variables or field of parameters, and thus more than one **ϑ** or **κ**, but that you could not say the same thing about **m** or **n**.\n",
    "* I have to figure out how to get bold Greek symbols to work in this flavor of LaTeX."
   ]
  },
  {
   "cell_type": "code",
   "execution_count": null,
   "metadata": {
    "collapsed": true
   },
   "outputs": [],
   "source": []
  }
 ],
 "metadata": {
  "kernelspec": {
   "display_name": "Python 3",
   "language": "python",
   "name": "python3"
  },
  "language_info": {
   "codemirror_mode": {
    "name": "ipython",
    "version": 3
   },
   "file_extension": ".py",
   "mimetype": "text/x-python",
   "name": "python",
   "nbconvert_exporter": "python",
   "pygments_lexer": "ipython3",
   "version": "3.5.2"
  }
 },
 "nbformat": 4,
 "nbformat_minor": 2
}
